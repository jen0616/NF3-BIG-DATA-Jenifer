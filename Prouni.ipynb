{
  "nbformat": 4,
  "nbformat_minor": 0,
  "metadata": {
    "colab": {
      "provenance": [],
      "authorship_tag": "ABX9TyPdifpgInBZWRIl5zeISmQ/",
      "include_colab_link": true
    },
    "kernelspec": {
      "name": "python3",
      "display_name": "Python 3"
    },
    "language_info": {
      "name": "python"
    }
  },
  "cells": [
    {
      "cell_type": "markdown",
      "metadata": {
        "id": "view-in-github",
        "colab_type": "text"
      },
      "source": [
        "<a href=\"https://colab.research.google.com/github/jen0616/NF3-BIG-DATA-Jenifer/blob/main/Prouni.ipynb\" target=\"_parent\"><img src=\"https://colab.research.google.com/assets/colab-badge.svg\" alt=\"Open In Colab\"/></a>"
      ]
    },
    {
      "cell_type": "code",
      "execution_count": null,
      "metadata": {
        "id": "X8EnzgzBDc2J"
      },
      "outputs": [],
      "source": [
        "#Questão 2\n",
        "import pandas as pd\n",
        "data = pd.read_csv('https://raw.githubusercontent.com/jen0616/NF3-BIG-DATA-Jenifer/main/cursos-prouni.csv', sep = ',')\n",
        "df = pd.DataFrame(data)\n",
        "type(df)\n",
        "df"
      ]
    },
    {
      "cell_type": "code",
      "source": [
        "#Questão 2 letra A | Efetuar a limpeza das colunas de notas: onde tiver NaN (Not a Number), substituir por 0,0.\n",
        "\n",
        "df = df.fillna(0)\n",
        "df"
      ],
      "metadata": {
        "id": "NMA06MxHoLsz"
      },
      "execution_count": null,
      "outputs": []
    },
    {
      "cell_type": "code",
      "source": [
        "#Questão 2 letra B | Agrupe os dados pelo grau (Bacharelado, Licenciatura, etc).\n",
        "\n",
        "grupo = df.groupby('grau')\n",
        "grupo.describe()\n"
      ],
      "metadata": {
        "id": "kxT9IOKKoWvK"
      },
      "execution_count": null,
      "outputs": []
    },
    {
      "cell_type": "code",
      "source": [
        "#Questão 2 letra C, P1 | Agrupe os dados pelos cursos de Matemática, Medicina e Pedagogia.\n",
        "\n",
        "grupo = df.groupby('curso_busca')\n",
        "grupo.get_group('Matemática').groupby('curso_busca').std()\n"
      ],
      "metadata": {
        "id": "L8kVqUwAoZ-v"
      },
      "execution_count": null,
      "outputs": []
    },
    {
      "cell_type": "code",
      "source": [
        "#Questão 2 letra C, P2\n",
        "\n",
        "grupo = df.groupby('curso_busca')\n",
        "grupo.get_group('Medicina').groupby('curso_busca').std()"
      ],
      "metadata": {
        "id": "41lF_bn1GD7L"
      },
      "execution_count": null,
      "outputs": []
    },
    {
      "cell_type": "code",
      "source": [
        "#Questão 2 letra C, P3\n",
        "\n",
        "grupo = df.groupby('curso_busca')\n",
        "grupo.get_group('Pedagogia').groupby('curso_busca').std()"
      ],
      "metadata": {
        "id": "4v-sUb0CGQ91"
      },
      "execution_count": null,
      "outputs": []
    },
    {
      "cell_type": "code",
      "source": [
        "#Questão 2 letra D | Agrupe os dados por Estado e obtenha a média de notas de corte por Estado.\n",
        "\n",
        "df.groupby('uf_busca')['nota_integral_ampla', 'nota_integral_cotas', 'nota_parcial_ampla', 'nota_parcial_cotas'].mean()"
      ],
      "metadata": {
        "id": "9cD2SjqLoptl"
      },
      "execution_count": null,
      "outputs": []
    },
    {
      "cell_type": "code",
      "source": [
        "#Questão 2 letra E | Agrupe os dados pelos cursos Tecnológicos.\n",
        "\n",
        "grupo = df.groupby('grau')\n",
        "grupo.get_group('Tecnológico').groupby('grau').describe()\n"
      ],
      "metadata": {
        "id": "kUkrmIndor-V"
      },
      "execution_count": null,
      "outputs": []
    },
    {
      "cell_type": "code",
      "source": [
        "#questão 2 letra F | Elimine a coluna “cidade_filtro” do dataframe.\n",
        "\n",
        "grupo = df.drop(columns = ['cidade_filtro'])\n",
        "grupo.head()\n"
      ],
      "metadata": {
        "id": "qf8wgnAW-Okf"
      },
      "execution_count": null,
      "outputs": []
    },
    {
      "cell_type": "code",
      "source": [
        "#Questão 2 letra G | Apresente a média das mensalidades dos cursos de Medicina.\n",
        "\n",
        "grupo = df[df['curso_busca'] == 'Medicina']\n",
        "\n",
        "media = grupo['mensalidade'].mean()\n",
        "print (\"A média das mensalidades é: \", media)"
      ],
      "metadata": {
        "id": "Yp-nDF8Co5p-",
        "colab": {
          "base_uri": "https://localhost:8080/"
        },
        "outputId": "aa8deb7c-288a-44e7-c1d9-2748f03dd98f"
      },
      "execution_count": 46,
      "outputs": [
        {
          "output_type": "stream",
          "name": "stdout",
          "text": [
            "A média das mensalidades é:  7168.341532258064\n"
          ]
        }
      ]
    },
    {
      "cell_type": "code",
      "source": [
        "#Questão 2 letra H | Média das notas de corte dos cursos de tempo integral.\n",
        "\n",
        "grupo_nota = df[df['turno'] == 'Integral']\n",
        "\n",
        "media = grupo_nota['nota_integral_ampla'].mean()\n",
        "print (\"A média das notas é: \", media)"
      ],
      "metadata": {
        "id": "fVnPKsP2o9w4",
        "colab": {
          "base_uri": "https://localhost:8080/"
        },
        "outputId": "6a7fda35-ceaa-490f-dcd4-092910bdea91"
      },
      "execution_count": 47,
      "outputs": [
        {
          "output_type": "stream",
          "name": "stdout",
          "text": [
            "A média das notas é:  605.07878125\n"
          ]
        }
      ]
    },
    {
      "cell_type": "code",
      "source": [
        "#Questão 2 letra I | Estatística Descritiva das Notas Integral Ampla dos cursos de Bacharelado.\n",
        "\n",
        "bacharelado_integral = df[(df['grau'] == 'Bacharelado') & (df['nota_integral_ampla'])]\n",
        "\n",
        "notas = bacharelado_integral['nota_integral_ampla'].head()\n",
        "notas\n"
      ],
      "metadata": {
        "id": "nwqYnn2EpBFN",
        "colab": {
          "base_uri": "https://localhost:8080/"
        },
        "outputId": "dc4709db-f220-4304-d325-1c009338be69"
      },
      "execution_count": 48,
      "outputs": [
        {
          "output_type": "execute_result",
          "data": {
            "text/plain": [
              "0    740.22\n",
              "1    663.36\n",
              "2    739.62\n",
              "3    651.00\n",
              "4    758.32\n",
              "Name: nota_integral_ampla, dtype: float64"
            ]
          },
          "metadata": {},
          "execution_count": 48
        }
      ]
    },
    {
      "cell_type": "code",
      "source": [
        "#Questão 2 letra J | Gráfico comparativo entre o grau dos cursos (Bacharelado, Licenciatura, Tecnologia, etc) pelas Notas Integral de Cotas.\n",
        "\n",
        "grupo = df.groupby('grau')['nota_integral_cotas'].std()\n",
        "grupo\n",
        "grupo.plot.bar(x='grau', y = 'nota_integral_ampla')\n"
      ],
      "metadata": {
        "id": "45i90AK4pD1A",
        "colab": {
          "base_uri": "https://localhost:8080/",
          "height": 540
        },
        "outputId": "9a1d2ed6-e34e-48ba-8493-54c3bb0e7448"
      },
      "execution_count": 49,
      "outputs": [
        {
          "output_type": "execute_result",
          "data": {
            "text/plain": [
              "<Axes: xlabel='grau'>"
            ]
          },
          "metadata": {},
          "execution_count": 49
        },
        {
          "output_type": "display_data",
          "data": {
            "text/plain": [
              "<Figure size 640x480 with 1 Axes>"
            ],
            "image/png": "[encoded data removed]"
          },
          "metadata": {}
        }
      ]
    }
  ]
}