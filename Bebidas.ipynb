{
  "nbformat": 4,
  "nbformat_minor": 0,
  "metadata": {
    "colab": {
      "provenance": [],
      "authorship_tag": "ABX9TyP8oRbbCBewEFxRw0phwEqB",
      "include_colab_link": true
    },
    "kernelspec": {
      "name": "python3",
      "display_name": "Python 3"
    },
    "language_info": {
      "name": "python"
    }
  },
  "cells": [
    {
      "cell_type": "markdown",
      "metadata": {
        "id": "view-in-github",
        "colab_type": "text"
      },
      "source": [
        "<a href=\"https://colab.research.google.com/github/jen0616/NF3-BIG-DATA-Jenifer/blob/main/Bebidas.ipynb\" target=\"_parent\"><img src=\"https://colab.research.google.com/assets/colab-badge.svg\" alt=\"Open In Colab\"/></a>"
      ]
    },
    {
      "cell_type": "code",
      "execution_count": null,
      "metadata": {
        "id": "p2n8XAljpZax"
      },
      "outputs": [],
      "source": [
        "#Questão 1\n",
        "import pandas as pd\n",
        "data = pd.read_csv('https://raw.githubusercontent.com/jen0616/NF3-BIG-DATA-Jenifer/main/world_alcohol.csv', sep = ',')\n",
        "df = pd.DataFrame(data)\n",
        "type(df)\n",
        "df"
      ]
    },
    {
      "cell_type": "code",
      "source": [
        "#trocar nome das colunas\n",
        "\n",
        "df = pd.DataFrame(data)\n",
        "df = df.rename(columns = {\"Year\": \"Ano\", \"WHO region\": \"Região\", \"Country\": \"País\", \"Beverage Types\": \"Tipos_bebida\", \"Display Value\": \"Valor\"})\n",
        "\n",
        "df"
      ],
      "metadata": {
        "id": "cEID9LClrnp4"
      },
      "execution_count": null,
      "outputs": []
    },
    {
      "cell_type": "code",
      "source": [
        "#Questão 1 Letra A | Agrupe os dados por tipo de bebidas;\n",
        "\n",
        "grupo = df.groupby('Tipos_bebida')\n",
        "grupo.describe()"
      ],
      "metadata": {
        "id": "DXGK24ph5tn2"
      },
      "execution_count": null,
      "outputs": []
    },
    {
      "cell_type": "code",
      "source": [
        "#Questão 1 Letra B | Agrupe os dados por Região e por Ano;\n",
        "\n",
        "grupo = df.groupby(['Região', 'Ano'])\n",
        "grupo.std(0)"
      ],
      "metadata": {
        "id": "y5InoO0ilPg2"
      },
      "execution_count": null,
      "outputs": []
    },
    {
      "cell_type": "code",
      "source": [
        "#Questão 1 Letra C | Seção de Contagens: Contar a ocorrência de Regiões, de Países e a soma da coluna de valores por Bebida\n",
        "\n",
        "regioes = df['Região'].nunique()\n",
        "pais = df['País'].nunique()\n",
        "valor_bebidas = df.groupby('Tipos_bebida')['Valor'].sum()\n",
        "\n",
        "print(\"Contagem de Regiões: \", regioes)\n",
        "print(\"Contagem de País: \", pais)\n",
        "valor_bebidas"
      ],
      "metadata": {
        "id": "IMCG3d6q1StM"
      },
      "execution_count": null,
      "outputs": []
    },
    {
      "cell_type": "code",
      "source": [
        "#Questão 1 Letra D | Realize análises estatísticas da coluna dos valores: Média, Moda, Mediana, Estatística Descritiva e\n",
        "#Gráfico de comparação dos valores agrupados por tipo de bebida.\n",
        "\n",
        "media = df['Valor'].mean()\n",
        "moda = df['Valor'].mode()\n",
        "mediana = df['Valor'].median()\n",
        "estatistica = df['Valor'].describe()\n",
        "\n",
        "print(\"Média: \", media)\n",
        "print(\"Moda: \", moda)\n",
        "print(\"Mediana: \", mediana)\n",
        "print(\"Estatística:\", estatistica)\n",
        "\n",
        "grupo = df.groupby('Tipos_bebida')['Valor'].std()\n",
        "grupo\n",
        "grupo.plot.bar(x='Tipos_bebida', y = 'Valor')"
      ],
      "metadata": {
        "id": "GqiYRCdUxhSz"
      },
      "execution_count": null,
      "outputs": []
    },
    {
      "cell_type": "code",
      "source": [
        "#Questão 1 Letra E, P1 |Mostre resultados de acordo com alguns critérios: i. Mostrar a coluna de bebidas do ano de 1985.\n",
        "\n",
        "bebida = df.loc[df['Ano'] == 1985].groupby(['Ano', 'Tipos_bebida']).std()\n",
        "bebida"
      ],
      "metadata": {
        "id": "Rr_C44lz8zIo"
      },
      "execution_count": null,
      "outputs": []
    },
    {
      "cell_type": "code",
      "source": [
        "#Questão 1 Letra E, P2 | ii. Mostrar a coluna de Região com valores acima de 4\n",
        "\n",
        "grupo = df.loc[df['Valor'] > 4].groupby(['Região', 'Valor']).std(0)\n",
        "grupo"
      ],
      "metadata": {
        "id": "SIUGp3V3yJQm"
      },
      "execution_count": null,
      "outputs": []
    }
  ]
}